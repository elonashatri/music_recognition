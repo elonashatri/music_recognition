{
 "cells": [
  {
   "cell_type": "code",
   "execution_count": null,
   "metadata": {},
   "outputs": [],
   "source": [
    "import matplotlib.pyplot as plt\n",
    "\n",
    "# Open the text file for reading\n",
    "with open('filename.txt', 'r') as f:\n",
    "    lines = f.readlines()\n",
    "\n",
    "# Create empty lists for train loss and validation loss\n",
    "train_loss = []\n",
    "valid_loss = []\n",
    "\n",
    "# Loop through each line in the file\n",
    "for line in lines:\n",
    "    # Check if the line contains train loss and validation loss values\n",
    "    if 'Train loss' in line and 'Valid loss' in line:\n",
    "        # Extract train loss and validation loss values from the line\n",
    "        train_loss.append(float(line.split('Train loss: ')[1].split(',')[0]))\n",
    "        valid_loss.append(float(line.split('Valid loss: ')[1].split(',')[0]))\n",
    "\n",
    "# Plot the train and validation loss values\n",
    "plt.plot(train_loss, label='Train Loss')\n",
    "plt.plot(valid_loss, label='Validation Loss')\n",
    "plt.legend()\n",
    "plt.show()\n"
   ]
  }
 ],
 "metadata": {
  "language_info": {
   "name": "python"
  },
  "orig_nbformat": 4
 },
 "nbformat": 4,
 "nbformat_minor": 2
}
